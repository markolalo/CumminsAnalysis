{
 "metadata": {
  "language_info": {
   "codemirror_mode": {
    "name": "ipython",
    "version": 3
   },
   "file_extension": ".py",
   "mimetype": "text/x-python",
   "name": "python",
   "nbconvert_exporter": "python",
   "pygments_lexer": "ipython3",
   "version": "3.8.5-final"
  },
  "orig_nbformat": 2,
  "kernelspec": {
   "name": "python3",
   "display_name": "Python 3",
   "language": "python"
  }
 },
 "nbformat": 4,
 "nbformat_minor": 2,
 "cells": [
  {
   "cell_type": "code",
   "execution_count": 59,
   "metadata": {},
   "outputs": [],
   "source": [
    "import pandas as pd \n",
    "import numpy as np \n",
    "import seaborn as sns \n",
    "import matplotlib.pyplot as plt \n",
    "import re\n",
    "import datetime\n",
    "import dateutil\n",
    "import calendar\n",
    "from datetime import datetime"
   ]
  },
  {
   "cell_type": "code",
   "execution_count": 60,
   "metadata": {},
   "outputs": [],
   "source": [
    "#Creating a DataFrame with service parts\n",
    "df = pd.read_csv('Service_parts.csv')"
   ]
  },
  {
   "cell_type": "code",
   "execution_count": 61,
   "metadata": {},
   "outputs": [],
   "source": [
    "#Removing unwanted columns\n",
    "df = df.drop(columns='Unnamed: 0')"
   ]
  },
  {
   "cell_type": "code",
   "execution_count": 62,
   "metadata": {},
   "outputs": [],
   "source": [
    "#Grouping filters\n",
    "WaterFilter = df.loc[df['Item Number'].str.contains('WF', flags=re.I, regex=True)]\n",
    "Airfilter = df.loc[df['Item Number'].str.contains('AF|AH', flags=re.I, regex=True)]\n",
    "Lubefilter = df.loc[df['Item Number'].str.contains('LF', flags=re.I, regex=True)]\n",
    "Fuelfilter = df.loc[df['Item Number'].str.contains('FF|FS', flags=re.I, regex=True)]\n",
    "Premium = df.loc[df['Item  Description'].str.contains('PREMIUM', flags=re.I, regex=True)]\n",
    "Coolant = df.loc[df['Item  Description'].str.contains('COOLANT', flags=re.I, regex=True)]"
   ]
  },
  {
   "cell_type": "code",
   "execution_count": 63,
   "metadata": {},
   "outputs": [],
   "source": [
    "#Transforming quantity to int\n",
    "WaterFilter['Quantity'] = pd.to_numeric(WaterFilter['Quantity']).astype(int)\n",
    "Airfilter['Quantity'] = pd.to_numeric(Airfilter['Quantity']).astype(int)\n",
    "Fuelfilter['Quantity'] = pd.to_numeric(Fuelfilter['Quantity']).astype(int)\n",
    "Lubefilter['Quantity'] = pd.to_numeric(Lubefilter['Quantity']).astype(int)\n",
    "Coolant['Quantity'] = pd.to_numeric(Coolant['Quantity']).astype(int)\n",
    "#Removing fuel water separators from Water filter category\n",
    "WaterFilter = WaterFilter.loc[~WaterFilter['Item  Description'].str.contains('fuel', flags=re.I, regex=True)]"
   ]
  },
  {
   "cell_type": "code",
   "execution_count": 64,
   "metadata": {},
   "outputs": [],
   "source": [
    "WaterFilter = WaterFilter.reset_index(drop=True)"
   ]
  },
  {
   "cell_type": "code",
   "execution_count": 65,
   "metadata": {},
   "outputs": [],
   "source": [
    "#Extracting month and year from date column\n",
    "WaterFilter['Month'] = pd.DatetimeIndex(WaterFilter['Date']).month\n",
    "WaterFilter['Year'] = pd.DatetimeIndex(WaterFilter['Date']).year\n",
    "WaterFilter['Month'] = WaterFilter.apply(\n",
    "    lambda row: '{:%b}'.format(datetime.strptime(str(row['Month']), '%m')),\n",
    "    axis=1\n",
    ") \n",
    "WaterFilter['Quater']= WaterFilter['Month'].map({\n",
    "    'Jan':'2',\n",
    "    'Feb':'2',\n",
    "    'Mar':'2',\n",
    "    'Apr':'3',\n",
    "    'May':'3',\n",
    "    'Jun':'3',\n",
    "    'Jul':'4',\n",
    "    'Aug':'4',\n",
    "    'Sep':'4',\n",
    "    'Oct':'1',\n",
    "    'Nov':'1',\n",
    "    'Dec':'1'\n",
    "})\n"
   ]
  },
  {
   "cell_type": "code",
   "execution_count": 84,
   "metadata": {},
   "outputs": [
    {
     "output_type": "execute_result",
     "data": {
      "text/plain": [
       "        Date                       Customer Name Item Number  \\\n",
       "1  18-Dec-17        HARAMBEE COOPERATIVE SAVINGS      WF2126   \n",
       "2  18-Dec-17         TWIGA STATIONERS & PRINTERS      WF2126   \n",
       "3  18-Dec-17               BAYER EAST AFRICA LTD      WF2074   \n",
       "4  18-Dec-17   FIDELITY SHIELD INSURANCE CO. LTD      WF2126   \n",
       "5  18-Dec-17  UNIVERSITY OF NAIROBI LOWER KABETE      WF2126   \n",
       "\n",
       "   Item  Description  Quantity Unit Price Month  Year Quater  \n",
       "1  DCA4 WATER FILTER         1   4,846.00   Dec  2017      1  \n",
       "2  DCA4 WATER FILTER         1   4,580.00   Dec  2017      1  \n",
       "3       WATER FILTER         1   2,131.20   Dec  2017      1  \n",
       "4  DCA4 WATER FILTER         1   3,690.00   Dec  2017      1  \n",
       "5  DCA4 WATER FILTER         1   4,100.00   Dec  2017      1  "
      ],
      "text/html": "<div>\n<style scoped>\n    .dataframe tbody tr th:only-of-type {\n        vertical-align: middle;\n    }\n\n    .dataframe tbody tr th {\n        vertical-align: top;\n    }\n\n    .dataframe thead th {\n        text-align: right;\n    }\n</style>\n<table border=\"1\" class=\"dataframe\">\n  <thead>\n    <tr style=\"text-align: right;\">\n      <th></th>\n      <th>Date</th>\n      <th>Customer Name</th>\n      <th>Item Number</th>\n      <th>Item  Description</th>\n      <th>Quantity</th>\n      <th>Unit Price</th>\n      <th>Month</th>\n      <th>Year</th>\n      <th>Quater</th>\n    </tr>\n  </thead>\n  <tbody>\n    <tr>\n      <th>1</th>\n      <td>18-Dec-17</td>\n      <td>HARAMBEE COOPERATIVE SAVINGS</td>\n      <td>WF2126</td>\n      <td>DCA4 WATER FILTER</td>\n      <td>1</td>\n      <td>4,846.00</td>\n      <td>Dec</td>\n      <td>2017</td>\n      <td>1</td>\n    </tr>\n    <tr>\n      <th>2</th>\n      <td>18-Dec-17</td>\n      <td>TWIGA STATIONERS &amp; PRINTERS</td>\n      <td>WF2126</td>\n      <td>DCA4 WATER FILTER</td>\n      <td>1</td>\n      <td>4,580.00</td>\n      <td>Dec</td>\n      <td>2017</td>\n      <td>1</td>\n    </tr>\n    <tr>\n      <th>3</th>\n      <td>18-Dec-17</td>\n      <td>BAYER EAST AFRICA LTD</td>\n      <td>WF2074</td>\n      <td>WATER FILTER</td>\n      <td>1</td>\n      <td>2,131.20</td>\n      <td>Dec</td>\n      <td>2017</td>\n      <td>1</td>\n    </tr>\n    <tr>\n      <th>4</th>\n      <td>18-Dec-17</td>\n      <td>FIDELITY SHIELD INSURANCE CO. LTD</td>\n      <td>WF2126</td>\n      <td>DCA4 WATER FILTER</td>\n      <td>1</td>\n      <td>3,690.00</td>\n      <td>Dec</td>\n      <td>2017</td>\n      <td>1</td>\n    </tr>\n    <tr>\n      <th>5</th>\n      <td>18-Dec-17</td>\n      <td>UNIVERSITY OF NAIROBI LOWER KABETE</td>\n      <td>WF2126</td>\n      <td>DCA4 WATER FILTER</td>\n      <td>1</td>\n      <td>4,100.00</td>\n      <td>Dec</td>\n      <td>2017</td>\n      <td>1</td>\n    </tr>\n  </tbody>\n</table>\n</div>"
     },
     "metadata": {},
     "execution_count": 84
    }
   ],
   "source": [
    "#Filtering out major clients who have left\n",
    "WaterFilter = WaterFilter.loc[~WaterFilter['Customer Name'].str.contains('libya|innscor|world food|housing finance', flags=re.I)]\n",
    "WaterFilter.head()"
   ]
  },
  {
   "cell_type": "code",
   "execution_count": 67,
   "metadata": {},
   "outputs": [
    {
     "output_type": "execute_result",
     "data": {
      "text/plain": [
       "                  Quantity\n",
       "Item Number Year          \n",
       "WF2051      2018         1\n",
       "WF2054      2018         7\n",
       "            2019        25\n",
       "WF2056      2019         8\n",
       "WF2071      2018        11\n",
       "            2019        63\n",
       "            2020        38\n",
       "WF2072      2018         1\n",
       "            2019         4\n",
       "            2021         6\n",
       "WF2073      2018        12\n",
       "            2019        59\n",
       "            2020        13\n",
       "WF2074      2018        33\n",
       "            2019        46\n",
       "            2020        19\n",
       "WF2075      2018        96\n",
       "            2019       114\n",
       "            2020        50\n",
       "WF2076      2018        93\n",
       "            2019       111\n",
       "            2020       145\n",
       "WF2096      2018        10\n",
       "            2019        28\n",
       "            2020         2\n",
       "WF2104      2018         4\n",
       "            2020         3\n",
       "WF2126      2018        53\n",
       "            2019       141\n",
       "            2020        33"
      ],
      "text/html": "<div>\n<style scoped>\n    .dataframe tbody tr th:only-of-type {\n        vertical-align: middle;\n    }\n\n    .dataframe tbody tr th {\n        vertical-align: top;\n    }\n\n    .dataframe thead th {\n        text-align: right;\n    }\n</style>\n<table border=\"1\" class=\"dataframe\">\n  <thead>\n    <tr style=\"text-align: right;\">\n      <th></th>\n      <th></th>\n      <th>Quantity</th>\n    </tr>\n    <tr>\n      <th>Item Number</th>\n      <th>Year</th>\n      <th></th>\n    </tr>\n  </thead>\n  <tbody>\n    <tr>\n      <th>WF2051</th>\n      <th>2018</th>\n      <td>1</td>\n    </tr>\n    <tr>\n      <th rowspan=\"2\" valign=\"top\">WF2054</th>\n      <th>2018</th>\n      <td>7</td>\n    </tr>\n    <tr>\n      <th>2019</th>\n      <td>25</td>\n    </tr>\n    <tr>\n      <th>WF2056</th>\n      <th>2019</th>\n      <td>8</td>\n    </tr>\n    <tr>\n      <th rowspan=\"3\" valign=\"top\">WF2071</th>\n      <th>2018</th>\n      <td>11</td>\n    </tr>\n    <tr>\n      <th>2019</th>\n      <td>63</td>\n    </tr>\n    <tr>\n      <th>2020</th>\n      <td>38</td>\n    </tr>\n    <tr>\n      <th rowspan=\"3\" valign=\"top\">WF2072</th>\n      <th>2018</th>\n      <td>1</td>\n    </tr>\n    <tr>\n      <th>2019</th>\n      <td>4</td>\n    </tr>\n    <tr>\n      <th>2021</th>\n      <td>6</td>\n    </tr>\n    <tr>\n      <th rowspan=\"3\" valign=\"top\">WF2073</th>\n      <th>2018</th>\n      <td>12</td>\n    </tr>\n    <tr>\n      <th>2019</th>\n      <td>59</td>\n    </tr>\n    <tr>\n      <th>2020</th>\n      <td>13</td>\n    </tr>\n    <tr>\n      <th rowspan=\"3\" valign=\"top\">WF2074</th>\n      <th>2018</th>\n      <td>33</td>\n    </tr>\n    <tr>\n      <th>2019</th>\n      <td>46</td>\n    </tr>\n    <tr>\n      <th>2020</th>\n      <td>19</td>\n    </tr>\n    <tr>\n      <th rowspan=\"3\" valign=\"top\">WF2075</th>\n      <th>2018</th>\n      <td>96</td>\n    </tr>\n    <tr>\n      <th>2019</th>\n      <td>114</td>\n    </tr>\n    <tr>\n      <th>2020</th>\n      <td>50</td>\n    </tr>\n    <tr>\n      <th rowspan=\"3\" valign=\"top\">WF2076</th>\n      <th>2018</th>\n      <td>93</td>\n    </tr>\n    <tr>\n      <th>2019</th>\n      <td>111</td>\n    </tr>\n    <tr>\n      <th>2020</th>\n      <td>145</td>\n    </tr>\n    <tr>\n      <th rowspan=\"3\" valign=\"top\">WF2096</th>\n      <th>2018</th>\n      <td>10</td>\n    </tr>\n    <tr>\n      <th>2019</th>\n      <td>28</td>\n    </tr>\n    <tr>\n      <th>2020</th>\n      <td>2</td>\n    </tr>\n    <tr>\n      <th rowspan=\"2\" valign=\"top\">WF2104</th>\n      <th>2018</th>\n      <td>4</td>\n    </tr>\n    <tr>\n      <th>2020</th>\n      <td>3</td>\n    </tr>\n    <tr>\n      <th rowspan=\"3\" valign=\"top\">WF2126</th>\n      <th>2018</th>\n      <td>53</td>\n    </tr>\n    <tr>\n      <th>2019</th>\n      <td>141</td>\n    </tr>\n    <tr>\n      <th>2020</th>\n      <td>33</td>\n    </tr>\n  </tbody>\n</table>\n</div>"
     },
     "metadata": {},
     "execution_count": 67
    }
   ],
   "source": [
    "#Aggregate after eliminating KCB, Libya Oil\n",
    "Avg_by_quater2 = WaterFilter.loc[WaterFilter['Quater']=='3'].groupby(['Item Number', 'Year']).sum()\n",
    "Avg_by_quater2"
   ]
  },
  {
   "cell_type": "code",
   "execution_count": 95,
   "metadata": {},
   "outputs": [],
   "source": [
    "Fuelfilter = df.loc[df['Item Number'].str.contains('FF|FS', flags=re.I, regex=True)]\n",
    "Fuelfilter = Fuelfilter.drop(columns=['Item  Description'])"
   ]
  },
  {
   "cell_type": "code",
   "execution_count": 96,
   "metadata": {},
   "outputs": [
    {
     "output_type": "execute_result",
     "data": {
      "text/plain": [
       "            Date                       Customer Name   Item Number Quantity  \\\n",
       "12     18-Dec-17               BAYER EAST AFRICA LTD        FF5580        1   \n",
       "13     18-Dec-17               BAYER EAST AFRICA LTD       FS19732        1   \n",
       "28     30-Jan-20                     PARAMOUNT PLAZA        FF5485        2   \n",
       "36      3-Oct-17                CASH SALES - CUMMINS        FF5524        2   \n",
       "41      3-Oct-17                      MATER HOSPITAL        FF5524        2   \n",
       "...          ...                                 ...           ...      ...   \n",
       "35283  25-Jan-21                       ASHNIL HOTELS        FF5612        2   \n",
       "35295  28-Jan-21    DIAMOND TRUST BANK KENYA LIMITED        FS1007        1   \n",
       "35300  28-Jan-21    DIAMOND TRUST BANK KENYA LIMITED        FS1007        1   \n",
       "35305  29-Jan-21  BRITISH AMERICAN TOBACCO KENYA PLC  LP-DF-FF0002        1   \n",
       "35312  29-Jan-21  BRITISH AMERICAN TOBACCO KENYA PLC         FF167        1   \n",
       "\n",
       "      Unit Price Month  Year Quater  \n",
       "12      2,680.20   Dec  2017      1  \n",
       "13      6,565.50   Dec  2017      1  \n",
       "28      5,342.00   Jan  2020      2  \n",
       "36        560.74   Oct  2017      1  \n",
       "41      1,100.00   Oct  2017      1  \n",
       "...          ...   ...   ...    ...  \n",
       "35283   2,008.05   Jan  2021      2  \n",
       "35295  10,294.00   Jan  2021      2  \n",
       "35300  10,294.00   Jan  2021      2  \n",
       "35305   2,983.00   Jan  2021      2  \n",
       "35312   1,491.17   Jan  2021      2  \n",
       "\n",
       "[6640 rows x 8 columns]"
      ],
      "text/html": "<div>\n<style scoped>\n    .dataframe tbody tr th:only-of-type {\n        vertical-align: middle;\n    }\n\n    .dataframe tbody tr th {\n        vertical-align: top;\n    }\n\n    .dataframe thead th {\n        text-align: right;\n    }\n</style>\n<table border=\"1\" class=\"dataframe\">\n  <thead>\n    <tr style=\"text-align: right;\">\n      <th></th>\n      <th>Date</th>\n      <th>Customer Name</th>\n      <th>Item Number</th>\n      <th>Quantity</th>\n      <th>Unit Price</th>\n      <th>Month</th>\n      <th>Year</th>\n      <th>Quater</th>\n    </tr>\n  </thead>\n  <tbody>\n    <tr>\n      <th>12</th>\n      <td>18-Dec-17</td>\n      <td>BAYER EAST AFRICA LTD</td>\n      <td>FF5580</td>\n      <td>1</td>\n      <td>2,680.20</td>\n      <td>Dec</td>\n      <td>2017</td>\n      <td>1</td>\n    </tr>\n    <tr>\n      <th>13</th>\n      <td>18-Dec-17</td>\n      <td>BAYER EAST AFRICA LTD</td>\n      <td>FS19732</td>\n      <td>1</td>\n      <td>6,565.50</td>\n      <td>Dec</td>\n      <td>2017</td>\n      <td>1</td>\n    </tr>\n    <tr>\n      <th>28</th>\n      <td>30-Jan-20</td>\n      <td>PARAMOUNT PLAZA</td>\n      <td>FF5485</td>\n      <td>2</td>\n      <td>5,342.00</td>\n      <td>Jan</td>\n      <td>2020</td>\n      <td>2</td>\n    </tr>\n    <tr>\n      <th>36</th>\n      <td>3-Oct-17</td>\n      <td>CASH SALES - CUMMINS</td>\n      <td>FF5524</td>\n      <td>2</td>\n      <td>560.74</td>\n      <td>Oct</td>\n      <td>2017</td>\n      <td>1</td>\n    </tr>\n    <tr>\n      <th>41</th>\n      <td>3-Oct-17</td>\n      <td>MATER HOSPITAL</td>\n      <td>FF5524</td>\n      <td>2</td>\n      <td>1,100.00</td>\n      <td>Oct</td>\n      <td>2017</td>\n      <td>1</td>\n    </tr>\n    <tr>\n      <th>...</th>\n      <td>...</td>\n      <td>...</td>\n      <td>...</td>\n      <td>...</td>\n      <td>...</td>\n      <td>...</td>\n      <td>...</td>\n      <td>...</td>\n    </tr>\n    <tr>\n      <th>35283</th>\n      <td>25-Jan-21</td>\n      <td>ASHNIL HOTELS</td>\n      <td>FF5612</td>\n      <td>2</td>\n      <td>2,008.05</td>\n      <td>Jan</td>\n      <td>2021</td>\n      <td>2</td>\n    </tr>\n    <tr>\n      <th>35295</th>\n      <td>28-Jan-21</td>\n      <td>DIAMOND TRUST BANK KENYA LIMITED</td>\n      <td>FS1007</td>\n      <td>1</td>\n      <td>10,294.00</td>\n      <td>Jan</td>\n      <td>2021</td>\n      <td>2</td>\n    </tr>\n    <tr>\n      <th>35300</th>\n      <td>28-Jan-21</td>\n      <td>DIAMOND TRUST BANK KENYA LIMITED</td>\n      <td>FS1007</td>\n      <td>1</td>\n      <td>10,294.00</td>\n      <td>Jan</td>\n      <td>2021</td>\n      <td>2</td>\n    </tr>\n    <tr>\n      <th>35305</th>\n      <td>29-Jan-21</td>\n      <td>BRITISH AMERICAN TOBACCO KENYA PLC</td>\n      <td>LP-DF-FF0002</td>\n      <td>1</td>\n      <td>2,983.00</td>\n      <td>Jan</td>\n      <td>2021</td>\n      <td>2</td>\n    </tr>\n    <tr>\n      <th>35312</th>\n      <td>29-Jan-21</td>\n      <td>BRITISH AMERICAN TOBACCO KENYA PLC</td>\n      <td>FF167</td>\n      <td>1</td>\n      <td>1,491.17</td>\n      <td>Jan</td>\n      <td>2021</td>\n      <td>2</td>\n    </tr>\n  </tbody>\n</table>\n<p>6640 rows × 8 columns</p>\n</div>"
     },
     "metadata": {},
     "execution_count": 96
    }
   ],
   "source": [
    "#Analysis for fuel filters\n",
    "#Extracting month and year from date column\n",
    "Fuelfilter['Month'] = pd.DatetimeIndex(Fuelfilter['Date']).month\n",
    "Fuelfilter['Year'] = pd.DatetimeIndex(Fuelfilter['Date']).year\n",
    "Fuelfilter['Month'] = Fuelfilter.apply(\n",
    "    lambda row: '{:%b}'.format(datetime.strptime(str(row['Month']), '%m')),\n",
    "    axis=1\n",
    ") \n",
    "Fuelfilter['Quater']= Fuelfilter['Month'].map({\n",
    "    'Jan':'2',\n",
    "    'Feb':'2',\n",
    "    'Mar':'2',\n",
    "    'Apr':'3',\n",
    "    'May':'3',\n",
    "    'Jun':'3',\n",
    "    'Jul':'4',\n",
    "    'Aug':'4',\n",
    "    'Sep':'4',\n",
    "    'Oct':'1',\n",
    "    'Nov':'1',\n",
    "    'Dec':'1'\n",
    "})\n",
    "Fuelfilter"
   ]
  },
  {
   "cell_type": "code",
   "execution_count": 103,
   "metadata": {},
   "outputs": [
    {
     "output_type": "execute_result",
     "data": {
      "text/plain": [
       "                   Quantity\n",
       "Item Number  Year          \n",
       "FF0563300    2020         2\n",
       "FF0576400    2020         6\n",
       "FF0579500    2020         1\n",
       "FF105        2018        20\n",
       "             2020         4\n",
       "...                     ...\n",
       "FS20088      2020         5\n",
       "FS20203      2019       136\n",
       "FS20402      2019        10\n",
       "FS36230      2018         4\n",
       "LP-DF-FF0002 2020         1\n",
       "\n",
       "[194 rows x 1 columns]"
      ],
      "text/html": "<div>\n<style scoped>\n    .dataframe tbody tr th:only-of-type {\n        vertical-align: middle;\n    }\n\n    .dataframe tbody tr th {\n        vertical-align: top;\n    }\n\n    .dataframe thead th {\n        text-align: right;\n    }\n</style>\n<table border=\"1\" class=\"dataframe\">\n  <thead>\n    <tr style=\"text-align: right;\">\n      <th></th>\n      <th></th>\n      <th>Quantity</th>\n    </tr>\n    <tr>\n      <th>Item Number</th>\n      <th>Year</th>\n      <th></th>\n    </tr>\n  </thead>\n  <tbody>\n    <tr>\n      <th>FF0563300</th>\n      <th>2020</th>\n      <td>2</td>\n    </tr>\n    <tr>\n      <th>FF0576400</th>\n      <th>2020</th>\n      <td>6</td>\n    </tr>\n    <tr>\n      <th>FF0579500</th>\n      <th>2020</th>\n      <td>1</td>\n    </tr>\n    <tr>\n      <th rowspan=\"2\" valign=\"top\">FF105</th>\n      <th>2018</th>\n      <td>20</td>\n    </tr>\n    <tr>\n      <th>2020</th>\n      <td>4</td>\n    </tr>\n    <tr>\n      <th>...</th>\n      <th>...</th>\n      <td>...</td>\n    </tr>\n    <tr>\n      <th>FS20088</th>\n      <th>2020</th>\n      <td>5</td>\n    </tr>\n    <tr>\n      <th>FS20203</th>\n      <th>2019</th>\n      <td>136</td>\n    </tr>\n    <tr>\n      <th>FS20402</th>\n      <th>2019</th>\n      <td>10</td>\n    </tr>\n    <tr>\n      <th>FS36230</th>\n      <th>2018</th>\n      <td>4</td>\n    </tr>\n    <tr>\n      <th>LP-DF-FF0002</th>\n      <th>2020</th>\n      <td>1</td>\n    </tr>\n  </tbody>\n</table>\n<p>194 rows × 1 columns</p>\n</div>"
     },
     "metadata": {},
     "execution_count": 103
    }
   ],
   "source": [
    "#Aggregating filters by year and item number\n",
    "Fuelfilter['Quantity'] = pd.to_numeric(Fuelfilter['Quantity'].astype(int))\n",
    "Avg_by_quater = Fuelfilter.loc[Fuelfilter['Quater']=='3'].groupby(['Item Number', 'Year']).sum()\n",
    "Avg_by_quater"
   ]
  },
  {
   "cell_type": "code",
   "execution_count": 107,
   "metadata": {},
   "outputs": [],
   "source": [
    "df2 = pd.DataFrame(Avg_by_quater)\n",
    "Fuelfilterdemand = df2.to_csv('FuelFilterDemand.csv')"
   ]
  },
  {
   "cell_type": "code",
   "execution_count": null,
   "metadata": {},
   "outputs": [],
   "source": []
  }
 ]
}